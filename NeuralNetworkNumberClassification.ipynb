{
  "nbformat": 4,
  "nbformat_minor": 0,
  "metadata": {
    "colab": {
      "provenance": [],
      "authorship_tag": "ABX9TyOjzMXO/IpGOgxVYbqPli18",
      "include_colab_link": true
    },
    "kernelspec": {
      "name": "python3",
      "display_name": "Python 3"
    },
    "language_info": {
      "name": "python"
    }
  },
  "cells": [
    {
      "cell_type": "markdown",
      "metadata": {
        "id": "view-in-github",
        "colab_type": "text"
      },
      "source": [
        "<a href=\"https://colab.research.google.com/github/igabypy/Neural-Network/blob/main/NeuralNetworkNumberClassification.ipynb\" target=\"_parent\"><img src=\"https://colab.research.google.com/assets/colab-badge.svg\" alt=\"Open In Colab\"/></a>"
      ]
    },
    {
      "cell_type": "markdown",
      "source": [
        "## Using Matplotlib\n",
        "\n",
        "You can use \n",
        "\n",
        "        matplotlib.pyplot.imshow(X)\n",
        "        \n",
        "an create an array of size 7x7, and put a 1 to form the number, and 0 to leave a space."
      ],
      "metadata": {
        "id": "NggLKTyZN0Ce"
      }
    },
    {
      "cell_type": "code",
      "source": [
        "import matplotlib.pyplot as plt\n",
        "import numpy as np"
      ],
      "metadata": {
        "id": "CoOv5xllPH0Q"
      },
      "execution_count": 17,
      "outputs": []
    },
    {
      "cell_type": "code",
      "source": [
        "# to create a dictionary with 10 arrays of size 7x7, to represent the numbers from 0 to 9\n",
        "data = {'0' : [[0., 0., 1, 1, 1, 0., 0.],\n",
        "       [0., 1, 0., 0., 0., 1, 0.],\n",
        "       [0., 1, 0., 0., 0., 1, 0.],\n",
        "       [0., 1, 0., 0., 0., 1, 0.],\n",
        "       [0., 1, 0., 0., 0., 1, 0.],\n",
        "       [0., 1, 0., 0., 0., 1, 0.],\n",
        "       [0., 0., 1, 1, 1, 0., 0.]] , '1' : [[0., 0., 1, 1, 1, 0., 0.],\n",
        "       [0., 1, 1, 1, 1, 0., 0.],\n",
        "       [0, 0, 0., 1, 1, 0., 0.],\n",
        "       [0., 0., 0., 1, 1, 0., 0.],\n",
        "       [0., 0., 0., 1, 1, 0., 0.],\n",
        "       [0., 0., 0., 1, 1, 0., 0.],\n",
        "       [0., 0., 1, 1, 1, 1, 0.]], '2' : [[0., 0., 1, 1, 1, 0., 0.],\n",
        "       [0., 1, 0., 0., 0., 1, 0.],\n",
        "       [0., 0., 0., 0., 0., 1, 0.],\n",
        "       [0., 0., 0., 0., 1, 0., 0.],\n",
        "       [0., 0., 0., 1, 0., 0., 0.],\n",
        "       [0., 0., 1, 0., 0., 0., 0.],\n",
        "       [0., 1, 1, 1, 1, 1, 0.]], '3' : [[0., 0., 1, 1, 1, 0., 0.],\n",
        "       [0., 0., 0., 0., 0., 1, 0.],\n",
        "       [0., 0., 0., 0., 1, 0., 0.],\n",
        "       [0., 0., 0., 1, 0., 0., 0.],\n",
        "       [0., 0., 0., 0., 1, 0., 0.],\n",
        "       [0., 0., 0., 0., 0., 1, 0.],\n",
        "       [0., 0., 1, 1, 1, 0., 0.]], '4' : [[0., 0., 1, 0., 0., 1, 0.],\n",
        "       [0., 0., 1, 0., 0., 1, 0.],\n",
        "       [0., 0., 1, 0., 0., 1, 0.],\n",
        "       [0., 0., 1, 1, 1, 1, 0.],\n",
        "       [0., 0., 0., 0., 0., 1, 0.],\n",
        "       [0., 0., 0., 0., 0., 1, 0.],\n",
        "       [0., 0., 0., 0., 0., 1, 0.]], '5' : [[0., 1, 1, 1, 1, 0, 0.],\n",
        "       [0., 1, 0., 0., 0., 0., 0.],\n",
        "       [0., 1, 0., 0., 0., 0., 0.],\n",
        "       [0., 1, 1, 1, 1,0, 0.],\n",
        "       [0., 0., 0., 0., 0, 1, 0.],\n",
        "       [0., 0., 0., 0., 0., 1, 0.],\n",
        "       [0., 1, 1, 1, 1, 0., 0.]] , '6' : [[0., 0, 1, 1, 1, 0, 0.],\n",
        "       [0., 1, 0., 0., 0., 0., 0.],\n",
        "       [0., 1, 0., 0., 0., 0., 0.],\n",
        "       [0., 1, 1, 1, 1,0, 0.],\n",
        "       [0., 1, 0., 0., 0, 1, 0.],\n",
        "       [0., 1, 0., 0., 0., 1, 0.],\n",
        "       [0., 0, 1, 1, 1, 0., 0.]], '7' : [[0., 0., 0., 0, 0, 0, 0.],\n",
        "       [0., 1, 1, 1, 1, 1, 0.],\n",
        "       [0., 0., 0., 0, 0, 1, 0.],\n",
        "       [0., 0., 0, 0, 1, 0., 0.],\n",
        "       [0., 0, 0., 1, 0., 0., 0.],\n",
        "       [0., 0, 1, 0., 0., 0., 0.],\n",
        "       [0., 1, 0., 0., 0., 0., 0.]], '8': [[0., 0., 1, 1, 1, 0., 0.],\n",
        "       [0., 1, 0., 0., 0., 1, 0.],\n",
        "       [0., 1, 0., 0., 0., 1, 0.],\n",
        "       [0., 0., 1, 1, 1, 0., 0.],\n",
        "       [0., 1, 0., 0. , 0., 1, 0.],\n",
        "       [0., 1, 0., 0., 0., 1, 0.],\n",
        "       [0., 0., 1, 1, 1, 0., 0.]], '9' : [[0., 0., 1, 1, 1, 0., 0.],\n",
        "       [0., 1, 0., 0., 0., 1, 0.],\n",
        "       [0., 1, 0., 0., 0., 1, 0.],\n",
        "       [0., 0., 1, 1, 1, 1, 0.],\n",
        "       [0., 0, 0., 0. , 0., 1, 0.],\n",
        "       [0., 0, 0., 0., 0., 1, 0.],\n",
        "       [0., 0., 1, 1, 1, 0., 0.]]}"
      ],
      "metadata": {
        "id": "TKOxoxuQN0_i"
      },
      "execution_count": 18,
      "outputs": []
    },
    {
      "cell_type": "code",
      "source": [
        "# to vizualize the numbers\n",
        "plt.imshow(data['7'])"
      ],
      "metadata": {
        "colab": {
          "base_uri": "https://localhost:8080/",
          "height": 283
        },
        "id": "XLgbU3nwOILA",
        "outputId": "eacd9547-f569-43f5-9904-250447d52350"
      },
      "execution_count": 19,
      "outputs": [
        {
          "output_type": "execute_result",
          "data": {
            "text/plain": [
              "<matplotlib.image.AxesImage at 0x7fe3f5ff5a60>"
            ]
          },
          "metadata": {},
          "execution_count": 19
        },
        {
          "output_type": "display_data",
          "data": {
            "text/plain": [
              "<Figure size 432x288 with 1 Axes>"
            ],
            "image/png": "[encoded data removed]"
          },
          "metadata": {
            "needs_background": "light"
          }
        }
      ]
    },
    {
      "cell_type": "code",
      "source": [
        "# Matrix W and the clases\n",
        "out = np.identity(10)\n",
        "W = np.random.rand(50,10)"
      ],
      "metadata": {
        "id": "W3Sz6fHMPCMT"
      },
      "execution_count": 20,
      "outputs": []
    },
    {
      "cell_type": "code",
      "source": [
        "# Neural network with to neurons\n",
        "h = 10000\n",
        "error = []\n",
        "for j in range(0,h):\n",
        "    alpha = 0.035\n",
        "    MSE = []\n",
        "    for i in '0123456789':\n",
        "        X = np.concatenate((np.array([1]), data[i]), axis = None)\n",
        "        y = np.dot(X,W)\n",
        "        ER = out[int(i)] - y\n",
        "        W = W + alpha*np.dot(X.reshape(50,1),ER.reshape(1,10))\n",
        "        MSE.append(np.dot(ER,ER))\n",
        "    #print(Error_epoca)\n",
        "    Error_epoca = sum(MSE)/10\n",
        "    error.append(Error_epoca)\n",
        "    #print(error)\n",
        "    if Error_epoca <= 0.0000:\n",
        "        break"
      ],
      "metadata": {
        "id": "7YthXXaiPbLg"
      },
      "execution_count": 21,
      "outputs": []
    },
    {
      "cell_type": "code",
      "source": [
        "# to show the evolution of the error\n",
        "plt.plot(range(0,len(error)),error)\n",
        "\n",
        "plt.xlim((0,10))"
      ],
      "metadata": {
        "colab": {
          "base_uri": "https://localhost:8080/",
          "height": 283
        },
        "id": "ra6WU074Pgw5",
        "outputId": "4da04ce9-5226-4fe0-b86e-f1ebb25847b4"
      },
      "execution_count": 22,
      "outputs": [
        {
          "output_type": "execute_result",
          "data": {
            "text/plain": [
              "(0.0, 10.0)"
            ]
          },
          "metadata": {},
          "execution_count": 22
        },
        {
          "output_type": "display_data",
          "data": {
            "text/plain": [
              "<Figure size 432x288 with 1 Axes>"
            ],
            "image/png": "[encoded data removed]"
          },
          "metadata": {
            "needs_background": "light"
          }
        }
      ]
    },
    {
      "cell_type": "code",
      "source": [],
      "metadata": {
        "id": "FhFVR3khQ8br"
      },
      "execution_count": null,
      "outputs": []
    }
  ]
}